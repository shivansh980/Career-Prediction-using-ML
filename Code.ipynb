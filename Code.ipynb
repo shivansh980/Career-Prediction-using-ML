{
 "cells": [
  {
   "cell_type": "code",
   "execution_count": null,
   "id": "515a9042-819e-45dd-b28a-bd7471af798f",
   "metadata": {},
   "outputs": [],
   "source": [
    "#importing necessary modules and libraries\n",
    "from sklearn.neural_network import MLPClassifier\n",
    "from sklearn.datasets import make_classification\n",
    "from sklearn.model_selection import train_test_split\n",
    "from sklearn.preprocessing import LabelEncoder\n",
    "from sklearn.metrics import confusion_matrix\n",
    "import pandas as pd\n",
    "import numpy as np\n",
    "import random"
   ]
  },
  {
   "cell_type": "code",
   "execution_count": null,
   "id": "cc1552ec-33e3-4655-9411-c89cca0f12f6",
   "metadata": {},
   "outputs": [],
   "source": [
    "#path to the csv file\n",
    "path = 'data.csv'\n",
    "df = pd.read_csv(path)"
   ]
  },
  {
   "cell_type": "code",
   "execution_count": null,
   "id": "7a7e6ca7-2784-49e0-896f-0cefa254a08a",
   "metadata": {},
   "outputs": [],
   "source": [
    "#object of label encoder\n",
    "le = LabelEncoder()"
   ]
  },
  {
   "cell_type": "code",
   "execution_count": null,
   "id": "109ee888-bcb5-4d7a-b5ee-cbf07d20cd68",
   "metadata": {
    "tags": []
   },
   "outputs": [],
   "source": [
    "#reducing number of classes by reducing job roles\n",
    "\n",
    "df = df.replace(to_replace =[\"Business Intelligence Analyst\", \"Business Systems Analyst\",\"CRM Business Analyst\",\"E-Commerce Analyst\",\"Systems Analyst\",\"Systems Security Administrator\"], value =\"Analyst\")\n",
    "\n",
    "df=df.replace(to_replace =[\"CRM Technical Developer\",\"Mobile Applications Developer\",\"Web Developer\"],value=\"Applications Developer\")\n",
    "\n",
    "df=df.replace(to_replace=[\"Data Architect\",\"Database Administrator\",\"Database Developer\",\"Database Manager\"],value=\"Database Engineer\")\n",
    "\n",
    "df=df.replace(to_replace=[\"Design & UX\",\"UX Designer\"],value=\"Applications Developer\")\n",
    "\n",
    "df=df.replace(to_replace=[\"Information Security Analyst\",\"Information Technology Auditor\",\"Information Technology Manager\"],value=\"Analyst\")\n",
    "\n",
    "df=df.replace(to_replace=[\"Network Engineer\",\"Network Security Administrator\",\"Network Security Engineer\"],value=\"Technical Engineer\")\n",
    "\n",
    "df=df.replace(to_replace=[\"Portal Administrator\",\"Programmer Analyst\",\"Project Manager\",\"Quality Assurance Associate\"],value=\"Project Manager\")\n",
    "\n",
    "df=df.replace(to_replace=[\"Software Developer\",\"Software Quality Assurance (QA) / Testing\",\"Software Systems Engineer\",\"Solutions Architect\"],value=\"Software Engineer\")\n",
    "\n",
    "df=df.replace(to_replace=[\"Technical Services/Help Desk/Tech Support\",\"Technical Support\"],value=\"Technical Engineer\")"
   ]
  },
  {
   "cell_type": "code",
   "execution_count": null,
   "id": "7e9d9d7b-1490-4992-9ae6-27d81c1342e6",
   "metadata": {
    "tags": []
   },
   "outputs": [],
   "source": [
    "#removing other symbols and changing them to underscore\n",
    "df.columns = [c.replace(' ', '_') for c in df.columns]\n",
    "\n",
    "df.columns = [c.replace('?', '') for c in df.columns]\n",
    "\n",
    "df.columns = [c.replace('-', '_') for c in df.columns]\n",
    "\n",
    "df.columns = [c.replace('/', '_') for c in df.columns]"
   ]
  },
  {
   "cell_type": "code",
   "execution_count": null,
   "id": "e7db02bb-1708-48b3-a0aa-a1c04bed4d44",
   "metadata": {},
   "outputs": [],
   "source": [
    "#merging and dropping unncessary features\n",
    "sum_column = df[\"talenttests_taken\"] + df[\"olympiads\"]\n",
    "\n",
    "df[\"talenttests_taken\"] = sum_column\n",
    "\n",
    "df.drop('hackathons', axis=1, inplace=True)\n",
    "\n",
    "df.drop('olympiads', axis=1, inplace=True)\n",
    "\n",
    "df.drop(\"Interested_Type_of_Books\",axis=1,inplace=True)\n",
    "\n",
    "sum_column = df[\"Extra_courses_did\"] + df[\"certifications\"]\n",
    "\n",
    "df[\"Extra_courses_did\"] = sum_column\n",
    "\n",
    "df.drop('certifications', axis=1, inplace=True)\n",
    "\n",
    "df.drop('Taken_inputs_from_seniors_or_elders',axis=1, inplace=True)\n",
    "\n",
    "df.drop('interested_in_games',axis=1, inplace=True)\n",
    "\n",
    "df.drop('Job_Higher_Studies',axis=1, inplace=True)\n",
    "\n",
    "df.drop('In_a_Realtionship',axis=1, inplace=True)\n",
    "\n",
    "df.drop('Gentle_or_Tuff_behaviour',axis=1, inplace=True)"
   ]
  },
  {
   "cell_type": "code",
   "execution_count": null,
   "id": "055de150-1ae3-487d-8f95-0000e29e4c20",
   "metadata": {},
   "outputs": [],
   "source": [
    "#converting objects with other data types to integer data type \n",
    "df.can_work_long_time_before_system=le.fit_transform(df.can_work_long_time_before_system)\n",
    "\n",
    "df.self_learning_capability=le.fit_transform(df.self_learning_capability)\n",
    "\n",
    "df.Extra_courses_did=le.fit_transform(df.Extra_courses_did)\n",
    "\n",
    "df.workshops=le.fit_transform(df.workshops)\n",
    "\n",
    "df.talenttests_taken=le.fit_transform(df.talenttests_taken)\n",
    "\n",
    "df.reading_and_writing_skills=le.fit_transform(df.reading_and_writing_skills)\n",
    "\n",
    "df.memory_capability_score=le.fit_transform(df.memory_capability_score)\n",
    "\n",
    "df.Interested_subjects=le.fit_transform(df.Interested_subjects)\n",
    "\n",
    "df.interested_career_area=le.fit_transform(df.interested_career_area)\n",
    "\n",
    "df.Type_of_company_want_to_settle_in=le.fit_transform(df.Type_of_company_want_to_settle_in)\n",
    "\n",
    "df.Salary_Range_Expected=le.fit_transform(df.Salary_Range_Expected)\n",
    "\n",
    "df.Management_or_Technical=le.fit_transform(df.Management_or_Technical)\n",
    "\n",
    "df.Salary_work=le.fit_transform(df.Salary_work)\n",
    "\n",
    "df.hard_smart_worker=le.fit_transform(df.hard_smart_worker)\n",
    "\n",
    "df.worked_in_teams_ever=le.fit_transform(df.worked_in_teams_ever)\n",
    "\n",
    "df.Introvert=le.fit_transform(df.Introvert)\n",
    "\n",
    "df.Suggested_Job_Role=le.fit_transform(df.Suggested_Job_Role)"
   ]
  },
  {
   "cell_type": "code",
   "execution_count": null,
   "id": "f226a891-0bce-41f2-a994-d7c87c0bec47",
   "metadata": {},
   "outputs": [],
   "source": [
    "#changing various values to high med and low in columns containing a great range of values\n",
    "df.percentage_in_Algorithms=df.percentage_in_Algorithms.floordiv(10)\n",
    "\n",
    "df.loc[df.percentage_in_Algorithms < 6 , \"percentage_in_Algorithms\"] = 1\n",
    "\n",
    "df.loc[df.percentage_in_Algorithms > 8 , \"percentage_in_Algorithms\"] = 3\n",
    "\n",
    "df.loc[df.percentage_in_Algorithms >=6 , \"percentage_in_Algorithms\"] = 2\n",
    "\n",
    "df.Acedamic_percentage_in_Operating_Systems=df.Acedamic_percentage_in_Operating_Systems.floordiv(10)\n",
    "\n",
    "df.loc[df.Acedamic_percentage_in_Operating_Systems < 6 , \"Acedamic_percentage_in_Operating_Systems\"] = 1\n",
    "\n",
    "df.loc[df.Acedamic_percentage_in_Operating_Systems > 8 , \"Acedamic_percentage_in_Operating_Systems\"] = 3\n",
    "\n",
    "df.loc[df.Acedamic_percentage_in_Operating_Systems >=6 , \"Acedamic_percentage_in_Operating_Systems\"] = 2\n",
    "\n",
    "df.Percentage_in_Programming_Concepts=df.Percentage_in_Programming_Concepts.floordiv(10)\n",
    "\n",
    "df.loc[df.Percentage_in_Programming_Concepts < 6 , \"Percentage_in_Programming_Concepts\"] = 1\n",
    "\n",
    "df.loc[df.Percentage_in_Programming_Concepts > 8 , \"Percentage_in_Programming_Concepts\"] = 3\n",
    "\n",
    "df.loc[df.Percentage_in_Programming_Concepts >=6 , \"Percentage_in_Programming_Concepts\"] = 2\n",
    "\n",
    "df.Percentage_in_Software_Engineering=df.Percentage_in_Software_Engineering.floordiv(10)\n",
    "\n",
    "df.loc[df.Percentage_in_Software_Engineering < 6 , \"Percentage_in_Software_Engineering\"] = 1\n",
    "\n",
    "df.loc[df.Percentage_in_Software_Engineering > 8 , \"Percentage_in_Software_Engineering\"] = 3\n",
    "\n",
    "df.loc[df.Percentage_in_Software_Engineering >=6 , \"Percentage_in_Software_Engineering\"] = 2\n",
    "\n",
    "df.Percentage_in_Computer_Networks=df.Percentage_in_Computer_Networks.floordiv(10)\n",
    "\n",
    "df.loc[df.Percentage_in_Computer_Networks < 6 , \"Percentage_in_Computer_Networks\"] = 1\n",
    "\n",
    "df.loc[df.Percentage_in_Computer_Networks > 8 , \"Percentage_in_Computer_Networks\"] = 3\n",
    "\n",
    "df.loc[df.Percentage_in_Computer_Networks >=6 , \"Percentage_in_Computer_Networks\"] = 2\n",
    "\n",
    "df.Percentage_in_Electronics_Subjects=df.Percentage_in_Electronics_Subjects.floordiv(10)\n",
    "\n",
    "df.loc[df.Percentage_in_Electronics_Subjects < 6 , \"Percentage_in_Electronics_Subjects\"] = 1\n",
    "\n",
    "df.loc[df.Percentage_in_Electronics_Subjects > 8 , \"Percentage_in_Electronics_Subjects\"] = 3\n",
    "\n",
    "df.loc[df.Percentage_in_Electronics_Subjects >=6 , \"Percentage_in_Electronics_Subjects\"] = 2\n",
    "\n",
    "df.Percentage_in_Computer_Architecture=df.Percentage_in_Computer_Architecture.floordiv(10)\n",
    "\n",
    "df.loc[df.Percentage_in_Computer_Architecture < 6 , \"Percentage_in_Computer_Architecture\"] = 1\n",
    "\n",
    "df.loc[df.Percentage_in_Computer_Architecture > 8 , \"Percentage_in_Computer_Architecture\"] = 3\n",
    "\n",
    "df.loc[df.Percentage_in_Computer_Architecture >=6 , \"Percentage_in_Computer_Architecture\"] = 2\n",
    "\n",
    "df.Percentage_in_Communication_skills=df.Percentage_in_Communication_skills.floordiv(10)\n",
    "\n",
    "df.loc[df.Percentage_in_Communication_skills < 6, \"Percentage_in_Communication_skills\"] = 1\n",
    "\n",
    "df.loc[df.Percentage_in_Communication_skills > 8 , \"Percentage_in_Communication_skills\"] = 3\n",
    "\n",
    "df.loc[df.Percentage_in_Communication_skills >=6 , \"Percentage_in_Communication_skills\"] = 2\n",
    "\n",
    "df.Percentage_in_Mathematics=df.Percentage_in_Mathematics.floordiv(10)\n",
    "\n",
    "df.loc[df.Percentage_in_Mathematics < 6 , \"Percentage_in_Mathematics\"] = 1\n",
    "\n",
    "df.loc[df.Percentage_in_Mathematics > 8 , \"Percentage_in_Mathematics\"] = 3\n",
    "\n",
    "df.loc[df.Percentage_in_Mathematics >=6 , \"Percentage_in_Mathematics\"] = 2"
   ]
  },
  {
   "cell_type": "code",
   "execution_count": null,
   "id": "7bc6e987-d710-4cc9-8ed9-7a19b9029e94",
   "metadata": {},
   "outputs": [],
   "source": [
    "#changing various values to high med and low in columns containing a great range of values\n",
    "df.Hours_working_per_day=df.Hours_working_per_day.floordiv(3)\n",
    "\n",
    "df.Logical_quotient_rating=df.Logical_quotient_rating.floordiv(2)\n",
    "\n",
    "df.coding_skills_rating=df.coding_skills_rating.floordiv(2)\n",
    "\n",
    "df.public_speaking_points=df.public_speaking_points.floordiv(2)\n",
    "\n",
    "df.workshops=df.workshops.floordiv(3)\n",
    "\n",
    "df.Interested_subjects=df.Interested_subjects.floordiv(2)\n",
    "\n",
    "df.Type_of_company_want_to_settle_in=df.Type_of_company_want_to_settle_in.floordiv(3)"
   ]
  },
  {
   "cell_type": "code",
   "execution_count": null,
   "id": "d1802cda-eea4-42e2-92bf-4b50bce43a41",
   "metadata": {},
   "outputs": [],
   "source": [
    "#getting a list of size equal to df\n",
    "points = list(range(len(df)))"
   ]
  },
  {
   "cell_type": "code",
   "execution_count": null,
   "id": "1267f5d3-2840-47a5-9188-02274db4f6a6",
   "metadata": {},
   "outputs": [],
   "source": [
    "#dividing training and testing datasets\n",
    "trainSize = int(0.9*len(df))\n",
    "testSize  = int(0.1*len(df))"
   ]
  },
  {
   "cell_type": "code",
   "execution_count": null,
   "id": "891883b1-1614-4386-a79b-3413fec5d958",
   "metadata": {},
   "outputs": [],
   "source": [
    "trainingSet = random.sample(points,trainSize)\n",
    "\n",
    "for x in trainingSet:\n",
    "    points.remove(x)"
   ]
  },
  {
   "cell_type": "code",
   "execution_count": null,
   "id": "61ed896a-a11f-462e-8998-f46b3c45664a",
   "metadata": {},
   "outputs": [],
   "source": [
    "#preparing the dataset by dropping the column to be predicted from the dataset\n",
    "testSet = points\n",
    "TrainingSet = df.drop(testSet)\n",
    "TestingSet   = df.drop(trainingSet)"
   ]
  },
  {
   "cell_type": "code",
   "execution_count": null,
   "id": "43667438-a8e2-4d51-b348-de742578b400",
   "metadata": {},
   "outputs": [],
   "source": [
    "#naming column to be predicted as TrainingX and TrainingY\n",
    "TrainingY = TrainingSet['Suggested_Job_Role']\n",
    "TestingY = TestingSet['Suggested_Job_Role']"
   ]
  },
  {
   "cell_type": "code",
   "execution_count": null,
   "id": "b7993719-21eb-40b7-b715-e0175d91afe6",
   "metadata": {
    "tags": []
   },
   "outputs": [],
   "source": [
    "TrainingX = TrainingSet.drop('Suggested_Job_Role',axis=\"columns\")\n",
    "TestingX = TestingSet.drop('Suggested_Job_Role',axis=\"columns\")"
   ]
  },
  {
   "cell_type": "code",
   "execution_count": null,
   "id": "3911c473-9f5e-46ef-915a-a2872fed0a6a",
   "metadata": {},
   "outputs": [],
   "source": [
    "#MLP classifier to train data\n",
    "classifier = MLPClassifier(max_iter=10000).fit(TrainingX, TrainingY)"
   ]
  },
  {
   "cell_type": "code",
   "execution_count": null,
   "id": "df9abffb-d3d6-498a-9641-0c16c8e9e32a",
   "metadata": {},
   "outputs": [],
   "source": [
    "#getting the accuracy of the model \n",
    "print(classifier.score(TestingX, TestingY))"
   ]
  },
  {
   "cell_type": "code",
   "execution_count": null,
   "id": "ade00686-63b2-4c76-90ec-eae62c0306be",
   "metadata": {},
   "outputs": [],
   "source": [
    "#predicting for TestingX to calculate the confusion matrix\n",
    "arr=classifier.predict(TestingX)"
   ]
  },
  {
   "cell_type": "code",
   "execution_count": null,
   "id": "e12b5614-27d4-4479-9284-50c57741e66a",
   "metadata": {},
   "outputs": [],
   "source": [
    "#using inbuilt, predicted arr, and known values to find the confusion matrix\n",
    "cm=confusion_matrix(TestingY, arr)"
   ]
  },
  {
   "cell_type": "code",
   "execution_count": null,
   "id": "2567e580-8af9-4f55-9f12-34adfd1e9c7f",
   "metadata": {},
   "outputs": [],
   "source": [
    "#the confusion matrix\n",
    "confusion_matrix(TestingY, arr)"
   ]
  },
  {
   "cell_type": "code",
   "execution_count": null,
   "id": "4d5d27b1-6f4c-44c5-a3ea-a42a2df41d2b",
   "metadata": {},
   "outputs": [],
   "source": [
    "#calculating the class wise accuracies from the confusion matrix\n",
    "cm = cm.astype('float') / cm.sum(axis=1)[:, np.newaxis]"
   ]
  },
  {
   "cell_type": "code",
   "execution_count": null,
   "id": "01b67ced-611f-4de0-9b82-fa86d555c712",
   "metadata": {},
   "outputs": [],
   "source": [
    "#class wise accuracies are stores on the diagonals of the matrix. Representing the array. \n",
    "cm.diagonal()\n"
   ]
  },
  {
   "cell_type": "code",
   "execution_count": null,
   "id": "f1608e17-f027-4808-bdb5-35b596807877",
   "metadata": {},
   "outputs": [],
   "source": [
    "#Repeating same process for 80:20 data ratio\n",
    "points1 = list(range(len(df)))"
   ]
  },
  {
   "cell_type": "code",
   "execution_count": null,
   "id": "b31339be-58aa-4405-97fe-1b26cb22522e",
   "metadata": {},
   "outputs": [],
   "source": [
    "trainSize = int(0.8*len(df))\n",
    "testSize  = int(0.2*len(df))"
   ]
  },
  {
   "cell_type": "code",
   "execution_count": null,
   "id": "6af6b033-cbd9-4567-902e-493babb109f6",
   "metadata": {},
   "outputs": [],
   "source": [
    "trainingSet = random.sample(points1,trainSize)\n",
    "\n",
    "for x in trainingSet:\n",
    "    points1.remove(x)"
   ]
  },
  {
   "cell_type": "code",
   "execution_count": null,
   "id": "2a1195c3-f689-42e9-81d5-7a8225f0c189",
   "metadata": {},
   "outputs": [],
   "source": [
    "testSet = points1\n",
    "TrainingSet = df.drop(testSet)\n",
    "TestingSet   = df.drop(trainingSet)"
   ]
  },
  {
   "cell_type": "code",
   "execution_count": null,
   "id": "d26c47c1-f82a-4cb0-a667-f0c095a9a1c1",
   "metadata": {},
   "outputs": [],
   "source": [
    "TrainingY = TrainingSet['Suggested_Job_Role']\n",
    "TestingY = TestingSet['Suggested_Job_Role']"
   ]
  },
  {
   "cell_type": "code",
   "execution_count": null,
   "id": "7b287171-99a6-48c9-89a7-b7959da29d99",
   "metadata": {},
   "outputs": [],
   "source": [
    "TrainingX = TrainingSet.drop('Suggested_Job_Role',axis=\"columns\")\n",
    "TestingX = TestingSet.drop('Suggested_Job_Role',axis=\"columns\")"
   ]
  },
  {
   "cell_type": "code",
   "execution_count": null,
   "id": "207efa2f-593e-4715-ac6c-7376304de677",
   "metadata": {},
   "outputs": [],
   "source": [
    "classifier = MLPClassifier(max_iter=10000).fit(TrainingX, TrainingY)"
   ]
  },
  {
   "cell_type": "code",
   "execution_count": null,
   "id": "25f8db34-6e87-4b4b-b2fe-2c95b5aa9656",
   "metadata": {},
   "outputs": [],
   "source": [
    "print(classifier.score(TestingX, TestingY))"
   ]
  },
  {
   "cell_type": "code",
   "execution_count": null,
   "id": "351624e2-416e-4ba9-b45b-06759c564b49",
   "metadata": {},
   "outputs": [],
   "source": [
    "arr=classifier.predict(TestingX)"
   ]
  },
  {
   "cell_type": "code",
   "execution_count": null,
   "id": "7f65ba1c-4b19-4668-9a23-583ee945fb3a",
   "metadata": {},
   "outputs": [],
   "source": [
    "cm=confusion_matrix(TestingY, arr)"
   ]
  },
  {
   "cell_type": "code",
   "execution_count": null,
   "id": "b25a0ecb-0d4e-4bfc-858d-2b71ddb5da9e",
   "metadata": {},
   "outputs": [],
   "source": [
    "confusion_matrix(TestingY, arr)"
   ]
  },
  {
   "cell_type": "code",
   "execution_count": null,
   "id": "99bb9785-1db8-4082-84c9-95b860f61a64",
   "metadata": {},
   "outputs": [],
   "source": [
    "cm = cm.astype('float') / cm.sum(axis=1)[:, np.newaxis]"
   ]
  },
  {
   "cell_type": "code",
   "execution_count": null,
   "id": "2fbda459-b4dd-4a94-b9f6-63f4f4df3364",
   "metadata": {},
   "outputs": [],
   "source": [
    "cm.diagonal()\n"
   ]
  },
  {
   "cell_type": "code",
   "execution_count": null,
   "id": "8956c353-e007-4391-9e42-8d3a620dd68b",
   "metadata": {},
   "outputs": [],
   "source": [
    "#Repeating same process for 80:20 data ratio\n",
    "points3 = list(range(len(df)))"
   ]
  },
  {
   "cell_type": "code",
   "execution_count": null,
   "id": "78a8346c-2e25-4d56-82cf-1ced174764f5",
   "metadata": {},
   "outputs": [],
   "source": [
    "trainSize = int(0.6*len(df))\n",
    "testSize  = int(0.4*len(df))"
   ]
  },
  {
   "cell_type": "code",
   "execution_count": null,
   "id": "fa8747fa-e142-4a96-9457-80bc67c555ba",
   "metadata": {},
   "outputs": [],
   "source": [
    "trainingSet = random.sample(points3,trainSize)\n",
    "\n",
    "for x in trainingSet:\n",
    "    points3.remove(x)"
   ]
  },
  {
   "cell_type": "code",
   "execution_count": null,
   "id": "dd79659f-d077-4cd6-a614-6bad89de337b",
   "metadata": {},
   "outputs": [],
   "source": [
    "testSet = points3\n",
    "TrainingSet = df.drop(testSet)\n",
    "TestingSet   = df.drop(trainingSet)"
   ]
  },
  {
   "cell_type": "code",
   "execution_count": null,
   "id": "4c0ae11e-46ea-441c-868c-b9ca019ce78e",
   "metadata": {},
   "outputs": [],
   "source": [
    "TrainingY = TrainingSet['Suggested_Job_Role']\n",
    "TestingY = TestingSet['Suggested_Job_Role']"
   ]
  },
  {
   "cell_type": "code",
   "execution_count": null,
   "id": "233b7567-2c77-4551-813c-f3c71c99ab26",
   "metadata": {},
   "outputs": [],
   "source": [
    "TrainingX = TrainingSet.drop('Suggested_Job_Role',axis=\"columns\")\n",
    "TestingX = TestingSet.drop('Suggested_Job_Role',axis=\"columns\")"
   ]
  },
  {
   "cell_type": "code",
   "execution_count": null,
   "id": "5f2037d1-12ec-46d5-b7eb-129b1aa1be67",
   "metadata": {},
   "outputs": [],
   "source": [
    "classifier = MLPClassifier(max_iter=10000).fit(TrainingX, TrainingY)"
   ]
  },
  {
   "cell_type": "code",
   "execution_count": null,
   "id": "73fe7705-d14f-420b-a551-f152b7088888",
   "metadata": {},
   "outputs": [],
   "source": [
    "print(classifier.score(TestingX, TestingY))"
   ]
  },
  {
   "cell_type": "code",
   "execution_count": null,
   "id": "7a7f078f-c9f2-4279-878a-172b6f78f640",
   "metadata": {},
   "outputs": [],
   "source": [
    "arr=classifier.predict(TestingX)"
   ]
  },
  {
   "cell_type": "code",
   "execution_count": null,
   "id": "43eeda1e-e584-46d6-a204-fee5f35881ae",
   "metadata": {},
   "outputs": [],
   "source": [
    "cm=confusion_matrix(TestingY, arr)"
   ]
  },
  {
   "cell_type": "code",
   "execution_count": null,
   "id": "7df441d4-86a2-4180-8bff-5c51ea817095",
   "metadata": {},
   "outputs": [],
   "source": [
    "confusion_matrix(TestingY, arr)"
   ]
  },
  {
   "cell_type": "code",
   "execution_count": null,
   "id": "7db1eb0d-b8d5-4d9d-bbf0-59095907511b",
   "metadata": {},
   "outputs": [],
   "source": [
    "cm = cm.astype('float') / cm.sum(axis=1)[:, np.newaxis]"
   ]
  },
  {
   "cell_type": "code",
   "execution_count": null,
   "id": "5fca0e66-95fa-4f06-bccb-68b9539fd3cc",
   "metadata": {},
   "outputs": [],
   "source": [
    "cm.diagonal()\n"
   ]
  },
  {
   "cell_type": "code",
   "execution_count": null,
   "id": "bc47b143-e249-4438-bc5c-41a047df0056",
   "metadata": {},
   "outputs": [],
   "source": []
  },
  {
   "cell_type": "code",
   "execution_count": null,
   "id": "cf907f18-0786-4353-bcf5-a35324f6e016",
   "metadata": {},
   "outputs": [],
   "source": []
  }
 ],
 "metadata": {
  "kernelspec": {
   "display_name": "Python 3 (ipykernel)",
   "language": "python",
   "name": "python3"
  },
  "language_info": {
   "codemirror_mode": {
    "name": "ipython",
    "version": 3
   },
   "file_extension": ".py",
   "mimetype": "text/x-python",
   "name": "python",
   "nbconvert_exporter": "python",
   "pygments_lexer": "ipython3",
   "version": "3.8.10"
  }
 },
 "nbformat": 4,
 "nbformat_minor": 5
}
